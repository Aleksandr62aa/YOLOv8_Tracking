{
  "nbformat": 4,
  "nbformat_minor": 0,
  "metadata": {
    "colab": {
      "provenance": [],
      "gpuType": "T4",
      "authorship_tag": "ABX9TyPhG9KJV9hfHoZsxzXnUxaX",
      "include_colab_link": true
    },
    "kernelspec": {
      "name": "python3",
      "display_name": "Python 3"
    },
    "language_info": {
      "name": "python"
    },
    "accelerator": "GPU"
  },
  "cells": [
    {
      "cell_type": "markdown",
      "metadata": {
        "id": "view-in-github",
        "colab_type": "text"
      },
      "source": [
        "<a href=\"https://colab.research.google.com/github/Aleksandr62aa/YOLOv8_Tracking/blob/main/FC_NN_class_MNIST_train_loader.ipynb\" target=\"_parent\"><img src=\"https://colab.research.google.com/assets/colab-badge.svg\" alt=\"Open In Colab\"/></a>"
      ]
    },
    {
      "cell_type": "markdown",
      "source": [
        "**Classification of handwritten numbers by a fully connected neural network**\n",
        "\n",
        "**Dataset MNIST**"
      ],
      "metadata": {
        "id": "2YsJr5eEjnUt"
      }
    },
    {
      "cell_type": "markdown",
      "source": [
        "**Importing libraries**"
      ],
      "metadata": {
        "id": "K2UV5bb_kTcw"
      }
    },
    {
      "cell_type": "code",
      "execution_count": 1,
      "metadata": {
        "id": "L6BGKq7EQEph"
      },
      "outputs": [],
      "source": [
        "import torch\n",
        "import random\n",
        "import numpy as np\n",
        "import torchvision.datasets\n",
        "from torch.utils.data import DataLoader, Dataset\n",
        "import cv2\n",
        "from tqdm import tqdm\n",
        "\n",
        "# Fixed seed\n",
        "random.seed(7)\n",
        "np.random.seed(7)\n",
        "torch.manual_seed(7)\n",
        "torch.cuda.manual_seed(7)\n",
        "torch.backends.cudnn.deterministic = True"
      ]
    },
    {
      "cell_type": "code",
      "source": [
        "# Hyperparameters\n",
        "batch_size = 100\n",
        "num_epochs = 100\n",
        "learning_rate = 1.0e-3"
      ],
      "metadata": {
        "id": "GqJY8_VS98v2"
      },
      "execution_count": 2,
      "outputs": []
    },
    {
      "cell_type": "markdown",
      "source": [
        "**Train Test dataset**"
      ],
      "metadata": {
        "id": "SHMr4Spcny37"
      }
    },
    {
      "cell_type": "code",
      "source": [
        "class DatasetTrain(Dataset):\n",
        "    def __init__(self):\n",
        "        self.MNIST_train = torchvision.datasets.MNIST('./', download=True, train=True)\n",
        "        self.X_train = self.MNIST_train.train_data\n",
        "        self.y_train = self.MNIST_train.train_labels\n",
        "        self.X_train = self.X_train.float()/255\n",
        "        self.X_train = self.X_train.reshape([-1, 28 * 28])\n",
        "\n",
        "    def __len__(self):\n",
        "        return len(self.X_train)\n",
        "\n",
        "    def __getitem__(self, index):\n",
        "        return self.X_train[index], self.y_train[index]"
      ],
      "metadata": {
        "id": "eoSO9u5kv2wJ"
      },
      "execution_count": 3,
      "outputs": []
    },
    {
      "cell_type": "code",
      "source": [
        "class DatasetTest(Dataset):\n",
        "    def __init__(self):\n",
        "        self.MNIST_test = torchvision.datasets.MNIST('./', download=True, train=False)\n",
        "        self.X_test = self.MNIST_test.test_data\n",
        "        self.y_test = self.MNIST_test.test_labels\n",
        "        self.X_test = self.X_test.float()/255\n",
        "        self.X_test = self.X_test.reshape([-1, 28 * 28])\n",
        "\n",
        "    def __len__(self):\n",
        "        return len(self.X_test)\n",
        "\n",
        "    def __getitem__(self, index):\n",
        "        return self.X_test[index], self.y_test[index]"
      ],
      "metadata": {
        "id": "jO096u9ib45Y"
      },
      "execution_count": 4,
      "outputs": []
    },
    {
      "cell_type": "code",
      "source": [
        "train_MNIST = DatasetTrain()\n",
        "test_MNIST = DatasetTest()"
      ],
      "metadata": {
        "id": "Ya3WY6uTbTHU",
        "colab": {
          "base_uri": "https://localhost:8080/"
        },
        "collapsed": true,
        "outputId": "88f221b2-76c1-4ee4-e34b-4302c3a3542f"
      },
      "execution_count": 5,
      "outputs": [
        {
          "output_type": "stream",
          "name": "stdout",
          "text": [
            "Downloading http://yann.lecun.com/exdb/mnist/train-images-idx3-ubyte.gz\n",
            "Failed to download (trying next):\n",
            "HTTP Error 404: Not Found\n",
            "\n",
            "Downloading https://ossci-datasets.s3.amazonaws.com/mnist/train-images-idx3-ubyte.gz\n",
            "Downloading https://ossci-datasets.s3.amazonaws.com/mnist/train-images-idx3-ubyte.gz to ./MNIST/raw/train-images-idx3-ubyte.gz\n"
          ]
        },
        {
          "output_type": "stream",
          "name": "stderr",
          "text": [
            "100%|██████████| 9.91M/9.91M [00:00<00:00, 18.0MB/s]\n"
          ]
        },
        {
          "output_type": "stream",
          "name": "stdout",
          "text": [
            "Extracting ./MNIST/raw/train-images-idx3-ubyte.gz to ./MNIST/raw\n",
            "\n",
            "Downloading http://yann.lecun.com/exdb/mnist/train-labels-idx1-ubyte.gz\n",
            "Failed to download (trying next):\n",
            "HTTP Error 404: Not Found\n",
            "\n",
            "Downloading https://ossci-datasets.s3.amazonaws.com/mnist/train-labels-idx1-ubyte.gz\n",
            "Downloading https://ossci-datasets.s3.amazonaws.com/mnist/train-labels-idx1-ubyte.gz to ./MNIST/raw/train-labels-idx1-ubyte.gz\n"
          ]
        },
        {
          "output_type": "stream",
          "name": "stderr",
          "text": [
            "100%|██████████| 28.9k/28.9k [00:00<00:00, 496kB/s]\n"
          ]
        },
        {
          "output_type": "stream",
          "name": "stdout",
          "text": [
            "Extracting ./MNIST/raw/train-labels-idx1-ubyte.gz to ./MNIST/raw\n",
            "\n",
            "Downloading http://yann.lecun.com/exdb/mnist/t10k-images-idx3-ubyte.gz\n",
            "Failed to download (trying next):\n",
            "HTTP Error 404: Not Found\n",
            "\n",
            "Downloading https://ossci-datasets.s3.amazonaws.com/mnist/t10k-images-idx3-ubyte.gz\n",
            "Downloading https://ossci-datasets.s3.amazonaws.com/mnist/t10k-images-idx3-ubyte.gz to ./MNIST/raw/t10k-images-idx3-ubyte.gz\n"
          ]
        },
        {
          "output_type": "stream",
          "name": "stderr",
          "text": [
            "100%|██████████| 1.65M/1.65M [00:00<00:00, 4.59MB/s]\n"
          ]
        },
        {
          "output_type": "stream",
          "name": "stdout",
          "text": [
            "Extracting ./MNIST/raw/t10k-images-idx3-ubyte.gz to ./MNIST/raw\n",
            "\n",
            "Downloading http://yann.lecun.com/exdb/mnist/t10k-labels-idx1-ubyte.gz\n",
            "Failed to download (trying next):\n",
            "HTTP Error 404: Not Found\n",
            "\n",
            "Downloading https://ossci-datasets.s3.amazonaws.com/mnist/t10k-labels-idx1-ubyte.gz\n",
            "Downloading https://ossci-datasets.s3.amazonaws.com/mnist/t10k-labels-idx1-ubyte.gz to ./MNIST/raw/t10k-labels-idx1-ubyte.gz\n"
          ]
        },
        {
          "output_type": "stream",
          "name": "stderr",
          "text": [
            "100%|██████████| 4.54k/4.54k [00:00<00:00, 6.35MB/s]\n",
            "/usr/local/lib/python3.11/dist-packages/torchvision/datasets/mnist.py:76: UserWarning: train_data has been renamed data\n",
            "  warnings.warn(\"train_data has been renamed data\")\n",
            "/usr/local/lib/python3.11/dist-packages/torchvision/datasets/mnist.py:66: UserWarning: train_labels has been renamed targets\n",
            "  warnings.warn(\"train_labels has been renamed targets\")\n"
          ]
        },
        {
          "output_type": "stream",
          "name": "stdout",
          "text": [
            "Extracting ./MNIST/raw/t10k-labels-idx1-ubyte.gz to ./MNIST/raw\n",
            "\n"
          ]
        },
        {
          "output_type": "stream",
          "name": "stderr",
          "text": [
            "/usr/local/lib/python3.11/dist-packages/torchvision/datasets/mnist.py:81: UserWarning: test_data has been renamed data\n",
            "  warnings.warn(\"test_data has been renamed data\")\n",
            "/usr/local/lib/python3.11/dist-packages/torchvision/datasets/mnist.py:71: UserWarning: test_labels has been renamed targets\n",
            "  warnings.warn(\"test_labels has been renamed targets\")\n"
          ]
        }
      ]
    },
    {
      "cell_type": "code",
      "source": [
        "len(train_MNIST), len(test_MNIST)"
      ],
      "metadata": {
        "collapsed": true,
        "id": "stks_ay_wwnZ",
        "colab": {
          "base_uri": "https://localhost:8080/"
        },
        "outputId": "5e4f1abf-fbfc-4c52-dca7-4fcc8a72f170"
      },
      "execution_count": 6,
      "outputs": [
        {
          "output_type": "execute_result",
          "data": {
            "text/plain": [
              "(60000, 10000)"
            ]
          },
          "metadata": {},
          "execution_count": 6
        }
      ]
    },
    {
      "cell_type": "code",
      "source": [
        "train_dataloader_MNIST = torch.utils.data.DataLoader(\n",
        "                            train_MNIST, batch_size=batch_size, shuffle=True)\n",
        "\n",
        "test_dataloader_MNIST = torch.utils.data.DataLoader(\n",
        "                            test_MNIST, batch_size=batch_size, shuffle=False, num_workers=0)"
      ],
      "metadata": {
        "id": "oJRTUtY7QulA"
      },
      "execution_count": 7,
      "outputs": []
    },
    {
      "cell_type": "code",
      "source": [
        "print(len(train_MNIST), len(train_dataloader_MNIST))\n",
        "print(len(test_MNIST), len(test_dataloader_MNIST))"
      ],
      "metadata": {
        "colab": {
          "base_uri": "https://localhost:8080/"
        },
        "id": "nFtDNxqvluBT",
        "outputId": "fadcc57b-169f-45c1-d16b-8c0a75099a8b"
      },
      "execution_count": 8,
      "outputs": [
        {
          "output_type": "stream",
          "name": "stdout",
          "text": [
            "60000 600\n",
            "10000 100\n"
          ]
        }
      ]
    },
    {
      "cell_type": "code",
      "source": [
        "X_batch, y_batch = next(iter(train_dataloader_MNIST))\n",
        "print(X_batch.shape, X_batch.dtype)\n",
        "print(y_batch.shape, y_batch.dtype)"
      ],
      "metadata": {
        "colab": {
          "base_uri": "https://localhost:8080/"
        },
        "id": "exjAagwNlT_i",
        "outputId": "56ebc9aa-6353-453e-8e54-ed4601616d73"
      },
      "execution_count": 9,
      "outputs": [
        {
          "output_type": "stream",
          "name": "stdout",
          "text": [
            "torch.Size([100, 784]) torch.float32\n",
            "torch.Size([100]) torch.int64\n"
          ]
        }
      ]
    },
    {
      "cell_type": "markdown",
      "source": [
        "**Image**"
      ],
      "metadata": {
        "id": "b6c87s2uof2w"
      }
    },
    {
      "cell_type": "code",
      "source": [
        "import matplotlib.pyplot as plt\n",
        "img = X_batch[1].reshape(28,28)\n",
        "plt.imshow(img, cmap='gray')\n",
        "plt.show()\n",
        "print(y_batch[1])"
      ],
      "metadata": {
        "id": "DYBpBd6TRAv3",
        "colab": {
          "base_uri": "https://localhost:8080/",
          "height": 447
        },
        "outputId": "afe6ae39-d188-4f95-c9e9-e29c3c1fdebe"
      },
      "execution_count": 10,
      "outputs": [
        {
          "output_type": "display_data",
          "data": {
            "text/plain": [
              "<Figure size 640x480 with 1 Axes>"
            ],
            "image/png": "[encoded data removed]"
          },
          "metadata": {}
        },
        {
          "output_type": "stream",
          "name": "stdout",
          "text": [
            "tensor(9)\n"
          ]
        }
      ]
    },
    {
      "cell_type": "code",
      "source": [
        "# GPU\n",
        "device = torch.device(\"cuda:0\" if torch.cuda.is_available() else \"cpu\")\n",
        "device"
      ],
      "metadata": {
        "colab": {
          "base_uri": "https://localhost:8080/"
        },
        "id": "cOECR6jYoNY9",
        "outputId": "96fce39f-a976-4977-f22e-8c61b03eb642"
      },
      "execution_count": 11,
      "outputs": [
        {
          "output_type": "execute_result",
          "data": {
            "text/plain": [
              "device(type='cuda', index=0)"
            ]
          },
          "metadata": {},
          "execution_count": 11
        }
      ]
    },
    {
      "cell_type": "markdown",
      "source": [
        "**Model FC NN**"
      ],
      "metadata": {
        "id": "bn67YHTBpCVc"
      }
    },
    {
      "cell_type": "code",
      "source": [
        "class MNISTNet(torch.nn.Module):\n",
        "    def __init__(self, n_hidden_neurons):\n",
        "        super().__init__()\n",
        "        self.fc1 = torch.nn.Linear(28 * 28, n_hidden_neurons)\n",
        "        self.ac1 = torch.nn.Sigmoid()\n",
        "        self.drop_out = torch.nn.Dropout()\n",
        "        self.fc2 = torch.nn.Linear(n_hidden_neurons, 10)\n",
        "\n",
        "    def forward(self, x):\n",
        "        x = self.fc1(x)\n",
        "        x = self.ac1(x)\n",
        "        x = self.drop_out(x)\n",
        "        x = self.fc2(x)\n",
        "        return x\n",
        "\n",
        "n_hidden_neurons = 100\n",
        "mnist_net = MNISTNet(n_hidden_neurons).to(device)"
      ],
      "metadata": {
        "id": "nV45lqeyRKOL"
      },
      "execution_count": 12,
      "outputs": []
    },
    {
      "cell_type": "code",
      "source": [
        "mnist_net"
      ],
      "metadata": {
        "colab": {
          "base_uri": "https://localhost:8080/"
        },
        "id": "NTajgzqgTt0x",
        "outputId": "d225e3d4-94ba-42ed-d634-3d516b8afdb6"
      },
      "execution_count": 13,
      "outputs": [
        {
          "output_type": "execute_result",
          "data": {
            "text/plain": [
              "MNISTNet(\n",
              "  (fc1): Linear(in_features=784, out_features=100, bias=True)\n",
              "  (ac1): Sigmoid()\n",
              "  (drop_out): Dropout(p=0.5, inplace=False)\n",
              "  (fc2): Linear(in_features=100, out_features=10, bias=True)\n",
              ")"
            ]
          },
          "metadata": {},
          "execution_count": 13
        }
      ]
    },
    {
      "cell_type": "markdown",
      "source": [
        "**Loss function**"
      ],
      "metadata": {
        "id": "eTxr_uugpXXI"
      }
    },
    {
      "cell_type": "code",
      "source": [
        "loss = torch.nn.CrossEntropyLoss()"
      ],
      "metadata": {
        "id": "gHSTVwLSpcUG"
      },
      "execution_count": 14,
      "outputs": []
    },
    {
      "cell_type": "markdown",
      "source": [
        "**Optimizer**"
      ],
      "metadata": {
        "id": "lEoHEUEIppem"
      }
    },
    {
      "cell_type": "code",
      "source": [
        "optimizer = torch.optim.Adam(mnist_net.parameters(), lr=learning_rate)"
      ],
      "metadata": {
        "id": "HA53VBWsRguR"
      },
      "execution_count": 15,
      "outputs": []
    },
    {
      "cell_type": "markdown",
      "source": [
        "**Training procedure**"
      ],
      "metadata": {
        "id": "TEHSjBSFp1gJ"
      }
    },
    {
      "cell_type": "code",
      "source": [
        "train_loss_history = []\n",
        "train_accuracy_history = []\n",
        "test_loss_history = []\n",
        "test_accuracy_history = []\n",
        "\n",
        "for epoch in tqdm(range(num_epochs)):   # цикл обучения по эпохам\n",
        "\n",
        "    running_loss_train = 0.\n",
        "    running_acc_train = 0.\n",
        "    for batch in train_dataloader_MNIST:# цикл обучения по бачам\n",
        "        mnist_net.train()\n",
        "        optimizer.zero_grad()\n",
        "        X_batch, y_batch = batch\n",
        "\n",
        "        X_batch = X_batch.to(device)\n",
        "        y_batch = y_batch.to(device)\n",
        "\n",
        "        y_preds = mnist_net.forward(X_batch)\n",
        "\n",
        "        # loss функция\n",
        "        loss_train = loss(y_preds, y_batch)\n",
        "\n",
        "        loss_train.backward()\n",
        "        optimizer.step()\n",
        "        running_loss_train += loss_train.cpu().detach().numpy()\n",
        "        running_acc_train += (y_preds.argmax(dim=1) == y_batch).float().mean().cpu().detach().numpy()\n",
        "    epoch_loss = running_loss_train/ len(train_dataloader_MNIST)\n",
        "    train_loss_history.append(epoch_loss)\n",
        "\n",
        "    epoch_acc = running_acc_train/len(train_dataloader_MNIST)\n",
        "    train_accuracy_history .append(epoch_acc)\n",
        "\n",
        "    running_loss_test = 0.\n",
        "    running_acc_test = 0.\n",
        "    # тестирование модели\n",
        "    for batch in test_dataloader_MNIST:\n",
        "        mnist_net.eval()\n",
        "        X_batch, y_batch = batch\n",
        "        X_batch = X_batch.to(device)\n",
        "        y_batch = y_batch.to(device)\n",
        "\n",
        "        y_preds = mnist_net.forward(X_batch)\n",
        "\n",
        "        running_loss_test += loss(y_preds, y_batch).cpu().detach().numpy()\n",
        "        running_acc_test += (y_preds.argmax(dim=1) == y_batch).float().mean().cpu().detach().numpy()\n",
        "\n",
        "    epoch_loss = running_loss_test/ len(test_dataloader_MNIST)\n",
        "    test_loss_history.append(epoch_loss)\n",
        "\n",
        "    epoch_acc = running_acc_test/ len(test_dataloader_MNIST)\n",
        "    test_accuracy_history .append(epoch_acc)\n"
      ],
      "metadata": {
        "id": "DsiPRGS4RgxX",
        "colab": {
          "base_uri": "https://localhost:8080/"
        },
        "outputId": "9f8594aa-cdfa-43da-a720-ec531cccd7a7"
      },
      "execution_count": 16,
      "outputs": [
        {
          "output_type": "stream",
          "name": "stderr",
          "text": [
            "100%|██████████| 100/100 [02:55<00:00,  1.75s/it]\n"
          ]
        }
      ]
    },
    {
      "cell_type": "markdown",
      "source": [
        "**Result test**"
      ],
      "metadata": {
        "id": "_yWKqrKU85rF"
      }
    },
    {
      "cell_type": "code",
      "source": [
        "plt.plot(train_loss_history, label='traim')\n",
        "plt.plot(test_loss_history, label='test')\n",
        "plt.legend(loc='best')\n",
        "plt.title('Loss');"
      ],
      "metadata": {
        "id": "8LxEqLCJRg0u",
        "colab": {
          "base_uri": "https://localhost:8080/",
          "height": 452
        },
        "outputId": "1ecfdc22-78ec-405a-b221-c6594805942c"
      },
      "execution_count": 17,
      "outputs": [
        {
          "output_type": "display_data",
          "data": {
            "text/plain": [
              "<Figure size 640x480 with 1 Axes>"
            ],
            "image/png": "[encoded data removed]"
          },
          "metadata": {}
        }
      ]
    },
    {
      "cell_type": "code",
      "source": [
        "plt.plot(train_accuracy_history, label='train')\n",
        "plt.plot(test_accuracy_history, label='test')\n",
        "plt.legend(loc='best')\n",
        "plt.title('Accuracy');"
      ],
      "metadata": {
        "id": "47vBjZ4Or8pA",
        "colab": {
          "base_uri": "https://localhost:8080/",
          "height": 452
        },
        "outputId": "cbdc563e-fde0-473a-8fb5-e3277bac30cb"
      },
      "execution_count": 18,
      "outputs": [
        {
          "output_type": "display_data",
          "data": {
            "text/plain": [
              "<Figure size 640x480 with 1 Axes>"
            ],
            "image/png": "[encoded data removed]"
          },
          "metadata": {}
        }
      ]
    },
    {
      "cell_type": "code",
      "source": [
        "# Save the model state\n",
        "st = mnist_net.state_dict()\n",
        "torch.save(st, 'mnist_net.tar')\n",
        "# torch.save(st, 'mnist_net.pth')"
      ],
      "metadata": {
        "id": "bKrDiNx3gd05"
      },
      "execution_count": 20,
      "outputs": []
    },
    {
      "cell_type": "code",
      "source": [
        "# mnist_net.fc1.weight.data, mnist_net.fc1.bias.data"
      ],
      "metadata": {
        "id": "7mU3Zm7p9wms"
      },
      "execution_count": null,
      "outputs": []
    },
    {
      "cell_type": "code",
      "source": [],
      "metadata": {
        "id": "T6lC5kW-h3KU"
      },
      "execution_count": null,
      "outputs": []
    }
  ]
}